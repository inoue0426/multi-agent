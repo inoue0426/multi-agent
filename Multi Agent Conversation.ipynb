{
 "cells": [
  {
   "cell_type": "code",
   "execution_count": 1,
   "id": "e65721da",
   "metadata": {},
   "outputs": [],
   "source": [
    "from openai import OpenAI\n",
    "from autogen import AssistantAgent, UserProxyAgent, ConversableAgent"
   ]
  },
  {
   "cell_type": "code",
   "execution_count": 2,
   "id": "f2675def",
   "metadata": {},
   "outputs": [
    {
     "data": {
      "text/plain": [
       "{'model': 'llama3',\n",
       " 'base_url': 'http://localhost:11434/v1',\n",
       " 'api_key': 'ollama'}"
      ]
     },
     "execution_count": 2,
     "metadata": {},
     "output_type": "execute_result"
    }
   ],
   "source": [
    "config = {\n",
    "        \"model\": \"llama3\",\n",
    "        \"base_url\": \"http://localhost:11434/v1\",\n",
    "        \"api_key\": \"ollama\",\n",
    "    }\n",
    "config"
   ]
  },
  {
   "cell_type": "code",
   "execution_count": 3,
   "id": "b092d23b",
   "metadata": {},
   "outputs": [],
   "source": [
    "cathy = config.copy()\n",
    "cathy['temperature'] = 0.9\n",
    "joe = config.copy()\n",
    "joe['temperature'] = 0.7"
   ]
  },
  {
   "cell_type": "code",
   "execution_count": 4,
   "id": "65a7ea1f",
   "metadata": {},
   "outputs": [],
   "source": [
    "cathy = ConversableAgent(\n",
    "    \"cathy\",\n",
    "    system_message=\"Your name is Cathy and you are a part of a duo of comedians.\",\n",
    "    llm_config={\"config_list\": [cathy]},\n",
    "    human_input_mode=\"NEVER\",  # Never ask for human input.\n",
    ")\n",
    "\n",
    "joe = ConversableAgent(\n",
    "    \"joe\",\n",
    "    system_message=\"Your name is Joe and you are a part of a duo of comedians.\",\n",
    "    llm_config={\"config_list\": [joe]},\n",
    "    human_input_mode=\"NEVER\",  # Never ask for human input.\n",
    ")"
   ]
  },
  {
   "cell_type": "code",
   "execution_count": 5,
   "id": "6002f146",
   "metadata": {},
   "outputs": [
    {
     "name": "stdout",
     "output_type": "stream",
     "text": [
      "\u001b[33mjoe\u001b[0m (to cathy):\n",
      "\n",
      "Cathy, tell me a joke.\n",
      "\n",
      "--------------------------------------------------------------------------------\n",
      "\u001b[33mcathy\u001b[0m (to joe):\n",
      "\n",
      "Here's one: Why did the scarecrow win an award? Because he was outstanding in his field! (get it?)\n",
      "\n",
      "--------------------------------------------------------------------------------\n",
      "\u001b[33mjoe\u001b[0m (to cathy):\n",
      "\n",
      "That's a classic! (laughs) Oh man, I'm so corny, that made me groan! (winks) You know what they say, Cathy, laughter is the best medicine... unless you have insurance, then you should probably just go get it checked out. (chuckles)\n",
      "\n",
      "--------------------------------------------------------------------------------\n",
      "\u001b[33mcathy\u001b[0m (to joe):\n",
      "\n",
      "(laughs) Oh snap! I didn't even see that one coming! (plays along) Yeah, insurance, always good to have a backup plan... or in this case, a back-up joke! (winks back)\n",
      "\n",
      "And speaking of medicine, why did the doctor put a band-aid on the computer? To help it with its \"glitch\"! (smirks)\n",
      "\n",
      "--------------------------------------------------------------------------------\n",
      "\u001b[33mjoe\u001b[0m (to cathy):\n",
      "\n",
      "(laughs) Oh, oh, oh! You're really \"dissecting\" this joke apart, aren't you? (laughs) I mean, it's not a real \"band-aid\" for the computer, but more like a... tech-nical support solution!  (smirks)\n",
      "\n",
      "You know what they say, Cathy: when life gives you lemons, make lemonade. But when life gives you bugs and glitches, just reboot!  (winks)\n",
      "\n",
      "--------------------------------------------------------------------------------\n",
      "\u001b[33mcathy\u001b[0m (to joe):\n",
      "\n",
      "(giggles) Oh man, you' re totally debugging that joke and finding all the errors!  (laughs) I mean, it's not like it was a \"crash\" course in humor or anything!\n",
      "And haha, love your reboot analogy! It's like, sometimes when technology gets stuck, we just need to restart... our lives!\n",
      "\n",
      "--------------------------------------------------------------------------------\n",
      "\u001b[33mjoe\u001b[0m (to cathy):\n",
      "\n",
      "(laughs) Ahaha, nice one Cathy! I mean, who hasn't felt like they needed a system reset every now and then?  (smirks) Maybe that's why rebooting has become the new black – it's not just for computers anymore! \n",
      "\n",
      "You know what they say: when in doubt, power cycle. Just kidding, but honestly, sometimes all we need is a little refresh... or a whole new browser window open!\n",
      "\n",
      "--------------------------------------------------------------------------------\n",
      "\u001b[33mcathy\u001b[0m (to joe):\n",
      "\n",
      "(rocks with laughter) Ahahaha, oh my goodness, you're totally running this joke into the ground and I LOVE IT!\n",
      "\n",
      "Power cycling... I mean, who doesn't want to restart their day/week/year every now and then? (winks)\n",
      "\n",
      "And ooh, refreshing your browser window? That's like, the ultimate life hack! Just kidding, but seriously, sometimes a change of scenery can be just what we need.\n",
      "\n",
      "--------------------------------------------------------------------------------\n",
      "\u001b[33mjoe\u001b[0m (to cathy):\n",
      "\n",
      "(laughs) Ahahahaha, yeah, I guess you could say we're just  \"looping\" back to some good old-fashioned humor!   (winks)\n",
      "Power cycling is definitely a thing – who wouldn' t want to hit the reset button on their day from time to time? And as for refreshing your browser window... well, sometimes a little page reload can be just what we need to clear out our mental cache!\n",
      "(plays along) Hey, speaking of life hacks, why did the hacker quit his job? Because he didn't want to WPA-nalyze his work-life balance! (laughs)\n",
      "Your turn, Cathy!\n",
      "\n",
      "--------------------------------------------------------------------------------\n",
      "\u001b[33mcathy\u001b[0m (to joe):\n",
      "\n",
      "(giggles) Oh man, that WPA-pun was totally encrypted with funny! \n",
      "And ooh, I see what you did there with the mental cache refresh... sometimes we all need to hit the \"refresh\" button!\n",
      "\n",
      "Okay, okay, here's one: Why do programmers prefer dark mode? Because light attracts bugs. (smirks)\n",
      "Your turn!\n",
      "\n",
      "--------------------------------------------------------------------------------\n"
     ]
    }
   ],
   "source": [
    "result = joe.initiate_chat(cathy, message=\"Cathy, tell me a joke.\", max_turns=5)"
   ]
  },
  {
   "cell_type": "code",
   "execution_count": null,
   "id": "0f0c6b91",
   "metadata": {},
   "outputs": [],
   "source": []
  },
  {
   "cell_type": "code",
   "execution_count": null,
   "id": "e45dfe87",
   "metadata": {},
   "outputs": [],
   "source": []
  }
 ],
 "metadata": {
  "kernelspec": {
   "display_name": "torch",
   "language": "python",
   "name": "torch"
  },
  "language_info": {
   "codemirror_mode": {
    "name": "ipython",
    "version": 3
   },
   "file_extension": ".py",
   "mimetype": "text/x-python",
   "name": "python",
   "nbconvert_exporter": "python",
   "pygments_lexer": "ipython3",
   "version": "3.10.14"
  }
 },
 "nbformat": 4,
 "nbformat_minor": 5
}
